{
 "cells": [
  {
   "cell_type": "markdown",
   "id": "ddd7bedc-0298-4ea8-9b5a-cd275a192fee",
   "metadata": {
    "tags": []
   },
   "source": [
    "# Data Science Tools and Ecosystem"
   ]
  },
  {
   "cell_type": "markdown",
   "id": "33504153-df7c-43c6-b2ae-1c6dc0d7648c",
   "metadata": {},
   "source": [
    "In this notebook, Data Science Tools and Ecosystem are summarized."
   ]
  },
  {
   "cell_type": "markdown",
   "id": "d4f774f6-e6d4-445e-beda-572a72ca74d5",
   "metadata": {
    "tags": []
   },
   "source": [
    "Some of the popular languages that Data Scientists use are:\n",
    "    \n",
    "    1. Python\n",
    "    2. Java\n",
    "    3. R language"
   ]
  },
  {
   "cell_type": "markdown",
   "id": "124fcf05-9d81-4541-a53d-16eaa520eefb",
   "metadata": {},
   "source": [
    "Some of the commonly used libraries used by Data Scientists include:\n",
    "    \n",
    "    1. Pands\n",
    "    2. Keras\n",
    "    3. Numpy"
   ]
  },
  {
   "cell_type": "markdown",
   "id": "232cb74d-5bc8-4e83-9eaf-a61be3174d35",
   "metadata": {},
   "source": [
    "|Data Science Tools| \n",
    "| ------ |  \n",
    "| Jupyter Notebook| \n",
    "| R Studios| \n",
    "| VS Code |"
   ]
  },
  {
   "cell_type": "markdown",
   "id": "1f731fee-79cd-4cbd-a9c7-021ab3450c73",
   "metadata": {},
   "source": [
    "### Below are a few examples of evaluating arithmetic expressions in Python"
   ]
  },
  {
   "cell_type": "code",
   "execution_count": 5,
   "id": "8f8e8136-c75a-4bc1-9e75-67fec1514d5d",
   "metadata": {
    "tags": []
   },
   "outputs": [
    {
     "data": {
      "text/plain": [
       "17"
      ]
     },
     "execution_count": 5,
     "metadata": {},
     "output_type": "execute_result"
    }
   ],
   "source": [
    "#This a simple arithmetic expression to mutiply then add integers\n",
    "\n",
    "(3*4)+5"
   ]
  },
  {
   "cell_type": "code",
   "execution_count": 7,
   "id": "65759afb-8ea6-46e8-bbbd-80288d9fe852",
   "metadata": {
    "tags": []
   },
   "outputs": [
    {
     "data": {
      "text/plain": [
       "3.3333333333333335"
      ]
     },
     "execution_count": 7,
     "metadata": {},
     "output_type": "execute_result"
    }
   ],
   "source": [
    "#This will convert 200 minutes to hours by diving by 60\n",
    "\n",
    "minutes = 200\n",
    "hours = minutes / 60\n",
    "hours\n"
   ]
  },
  {
   "cell_type": "markdown",
   "id": "08a0ab18-f993-4f69-b7da-dec17ef23af7",
   "metadata": {
    "jp-MarkdownHeadingCollapsed": true,
    "tags": []
   },
   "source": [
    "#### Objectives:\n",
    "\n",
    "- lanaguages for data science\n",
    "- tools for data science\n",
    "- working with jupyter notebooks"
   ]
  },
  {
   "cell_type": "markdown",
   "id": "fcf9c572-c2e5-4986-a6a6-5f973b60beda",
   "metadata": {
    "tags": []
   },
   "source": [
    "## Auther\n",
    "Usama Javed"
   ]
  },
  {
   "cell_type": "code",
   "execution_count": null,
   "id": "82f61d67-820d-4072-984d-fe0defad6cd6",
   "metadata": {},
   "outputs": [],
   "source": []
  }
 ],
 "metadata": {
  "kernelspec": {
   "display_name": "Python",
   "language": "python",
   "name": "conda-env-python-py"
  },
  "language_info": {
   "codemirror_mode": {
    "name": "ipython",
    "version": 3
   },
   "file_extension": ".py",
   "mimetype": "text/x-python",
   "name": "python",
   "nbconvert_exporter": "python",
   "pygments_lexer": "ipython3",
   "version": "3.7.12"
  }
 },
 "nbformat": 4,
 "nbformat_minor": 5
}
